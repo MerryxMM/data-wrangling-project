{
 "cells": [
  {
   "cell_type": "code",
   "execution_count": 1,
   "id": "448ba33f-d12d-4493-a1e9-bddcd4132854",
   "metadata": {},
   "outputs": [],
   "source": [
    "import pandas as pd\n",
    "import requests as r\n",
    "from bs4 import BeautifulSoup as bs\n",
    "import numpy as np\n",
    "import os\n",
    "import matplotlib.pyplot as plt\n",
    "import seaborn as sns\n",
    "\n",
    "\n"
   ]
  },
  {
   "cell_type": "code",
   "execution_count": 2,
   "id": "6882d21d-4708-4f80-b219-283c1196ff1f",
   "metadata": {},
   "outputs": [],
   "source": [
    "url_test= \"https://www.fueleconomy.gov/feg/PowerSearch.do?action=noform&path=4&year1=2019&year2=2024&make=Ford&srchtyp=newMake&pageno=1&rowLimit=200&sortBy=Comb&tabView=0\"\n",
    "page_n1 = r.get(url_test)\n",
    "soup = bs(page_n1.content)"
   ]
  },
  {
   "cell_type": "code",
   "execution_count": 3,
   "id": "b3aa7e2b-6ee2-4e43-aebb-3c7a558c2b85",
   "metadata": {},
   "outputs": [
    {
     "data": {
      "text/plain": [
       "<Response [200]>"
      ]
     },
     "execution_count": 3,
     "metadata": {},
     "output_type": "execute_result"
    }
   ],
   "source": [
    "page_n1"
   ]
  },
  {
   "cell_type": "markdown",
   "id": "7d515ba8-1dc0-4e9f-81be-362f714d4793",
   "metadata": {},
   "source": [
    "page = r.get(url)\n",
    "soup = bs(page.content, \"html.parser\")"
   ]
  },
  {
   "cell_type": "code",
   "execution_count": 4,
   "id": "52bc0731-d292-4ca5-91e8-eb46b4a6cb30",
   "metadata": {},
   "outputs": [],
   "source": [
    "base_url = \"https://www.fueleconomy.gov/feg/\"\n",
    "makers = [\"Chevrolet\", \"Ford\", \"Nissan\"]\n",
    "\n",
    "manufacturers = []\n",
    "years = []\n",
    "models = []\n",
    "miles_IRA = []  # Initialize the list for total ranges\n",
    "\n",
    "for maker in makers:\n",
    "    page_number = 1\n",
    "    while True:\n",
    "        url = f\"{base_url}PowerSearch.do?action=noform&path=4&year1=2019&year2=2024&make={maker}&srchtyp=newMake&pageno={page_number}&rowLimit=200&sortBy=Comb&tabView=0\"\n",
    "        page = r.get(url)\n",
    "        soup_IRA = bs(page.content, \"html.parser\")\n",
    "        rows = soup_IRA.find_all(\"tr\", class_=\"ymm-row\")\n",
    "        \n",
    "        if not rows:  # Check if there are no more rows, indicating the end of data\n",
    "            break\n",
    "\n",
    "        for tr in rows:\n",
    "            a_tags = tr.find_all(\"a\")\n",
    "            for a in a_tags:\n",
    "                manufacturers.append(a.text.split()[1])\n",
    "                years.append(a.text.split()[0])\n",
    "                models.append(' '.join(a.text.split()[2:]))   \n",
    "\n",
    "        # Extract total ranges and append to the list\n",
    "        miles_IRA.extend([mile_IRA.get_text() for mile_IRA in soup_IRA.find_all(\"div\", class_=\"totalRange\")])\n",
    "\n",
    "        page_number += 1 \n"
   ]
  },
  {
   "cell_type": "code",
   "execution_count": 5,
   "id": "6a2da4ff-9cb0-4f5b-8144-304b50677b1b",
   "metadata": {},
   "outputs": [],
   "source": [
    "#trim column miles to that it matches the other columns ranges since I have no Nan values\n",
    "miles_IRA = miles_IRA[:len(manufacturers)] "
   ]
  },
  {
   "cell_type": "code",
   "execution_count": 6,
   "id": "18c905d0-09b1-4a6d-b996-b3db5ee590bc",
   "metadata": {},
   "outputs": [],
   "source": [
    "data = {\n",
    "    'Manufacturer': manufacturers,\n",
    "    'Year': years,\n",
    "    'Model': models,\n",
    "    'Miles_IRA': miles_IRA\n",
    "}\n",
    "\n",
    "# Create a DataFrame from the dictionary\n",
    "df_mateo = pd.DataFrame(data)"
   ]
  },
  {
   "cell_type": "code",
   "execution_count": 7,
   "id": "a077252a-3eec-4da3-b322-e415ece19b5d",
   "metadata": {},
   "outputs": [
    {
     "data": {
      "text/html": [
       "<div>\n",
       "<style scoped>\n",
       "    .dataframe tbody tr th:only-of-type {\n",
       "        vertical-align: middle;\n",
       "    }\n",
       "\n",
       "    .dataframe tbody tr th {\n",
       "        vertical-align: top;\n",
       "    }\n",
       "\n",
       "    .dataframe thead th {\n",
       "        text-align: right;\n",
       "    }\n",
       "</style>\n",
       "<table border=\"1\" class=\"dataframe\">\n",
       "  <thead>\n",
       "    <tr style=\"text-align: right;\">\n",
       "      <th></th>\n",
       "      <th>Manufacturer</th>\n",
       "      <th>Year</th>\n",
       "      <th>Model</th>\n",
       "      <th>Miles_IRA</th>\n",
       "    </tr>\n",
       "  </thead>\n",
       "  <tbody>\n",
       "    <tr>\n",
       "      <th>0</th>\n",
       "      <td>Chevrolet</td>\n",
       "      <td>2023</td>\n",
       "      <td>Bolt EV</td>\n",
       "      <td>259 milesTotal Range</td>\n",
       "    </tr>\n",
       "    <tr>\n",
       "      <th>1</th>\n",
       "      <td>Chevrolet</td>\n",
       "      <td>2022</td>\n",
       "      <td>Bolt EV</td>\n",
       "      <td>259 milesTotal Range</td>\n",
       "    </tr>\n",
       "    <tr>\n",
       "      <th>2</th>\n",
       "      <td>Chevrolet</td>\n",
       "      <td>2019</td>\n",
       "      <td>Bolt EV</td>\n",
       "      <td>238 milesTotal Range</td>\n",
       "    </tr>\n",
       "    <tr>\n",
       "      <th>3</th>\n",
       "      <td>Chevrolet</td>\n",
       "      <td>2021</td>\n",
       "      <td>Bolt EV</td>\n",
       "      <td>259 milesTotal Range</td>\n",
       "    </tr>\n",
       "    <tr>\n",
       "      <th>4</th>\n",
       "      <td>Chevrolet</td>\n",
       "      <td>2020</td>\n",
       "      <td>Bolt EV</td>\n",
       "      <td>259 milesTotal Range</td>\n",
       "    </tr>\n",
       "    <tr>\n",
       "      <th>...</th>\n",
       "      <td>...</td>\n",
       "      <td>...</td>\n",
       "      <td>...</td>\n",
       "      <td>...</td>\n",
       "    </tr>\n",
       "    <tr>\n",
       "      <th>1286</th>\n",
       "      <td>Nissan</td>\n",
       "      <td>2022</td>\n",
       "      <td>Armada 4WD</td>\n",
       "      <td>416 milesTotal Range</td>\n",
       "    </tr>\n",
       "    <tr>\n",
       "      <th>1287</th>\n",
       "      <td>Nissan</td>\n",
       "      <td>2021</td>\n",
       "      <td>Armada 4WD</td>\n",
       "      <td>416 milesTotal Range</td>\n",
       "    </tr>\n",
       "    <tr>\n",
       "      <th>1288</th>\n",
       "      <td>Nissan</td>\n",
       "      <td>2021</td>\n",
       "      <td>Armada 4WD</td>\n",
       "      <td>416 milesTotal Range</td>\n",
       "    </tr>\n",
       "    <tr>\n",
       "      <th>1289</th>\n",
       "      <td>Nissan</td>\n",
       "      <td>2020</td>\n",
       "      <td>Armada 4WD</td>\n",
       "      <td>390 milesTotal Range</td>\n",
       "    </tr>\n",
       "    <tr>\n",
       "      <th>1290</th>\n",
       "      <td>Nissan</td>\n",
       "      <td>2019</td>\n",
       "      <td>Armada 4WD</td>\n",
       "      <td>390 milesTotal Range</td>\n",
       "    </tr>\n",
       "  </tbody>\n",
       "</table>\n",
       "<p>1291 rows × 4 columns</p>\n",
       "</div>"
      ],
      "text/plain": [
       "     Manufacturer  Year       Model             Miles_IRA\n",
       "0       Chevrolet  2023     Bolt EV  259 milesTotal Range\n",
       "1       Chevrolet  2022     Bolt EV  259 milesTotal Range\n",
       "2       Chevrolet  2019     Bolt EV  238 milesTotal Range\n",
       "3       Chevrolet  2021     Bolt EV  259 milesTotal Range\n",
       "4       Chevrolet  2020     Bolt EV  259 milesTotal Range\n",
       "...           ...   ...         ...                   ...\n",
       "1286       Nissan  2022  Armada 4WD  416 milesTotal Range\n",
       "1287       Nissan  2021  Armada 4WD  416 milesTotal Range\n",
       "1288       Nissan  2021  Armada 4WD  416 milesTotal Range\n",
       "1289       Nissan  2020  Armada 4WD  390 milesTotal Range\n",
       "1290       Nissan  2019  Armada 4WD  390 milesTotal Range\n",
       "\n",
       "[1291 rows x 4 columns]"
      ]
     },
     "execution_count": 7,
     "metadata": {},
     "output_type": "execute_result"
    }
   ],
   "source": [
    "# checking my df\n",
    "df_mateo"
   ]
  },
  {
   "cell_type": "code",
   "execution_count": 8,
   "id": "211a3645-40d7-4df1-bb2a-134db6fea0a7",
   "metadata": {},
   "outputs": [
    {
     "data": {
      "text/plain": [
       "'print(\"Length of manufacturers list:\", len(manufacturers))\\nprint(\"Length of years list:\", len(years))\\nprint(\"Length of models list:\", len(models))\\nprint(\"Length of miles_IRA list:\", len(miles_IRA))'"
      ]
     },
     "execution_count": 8,
     "metadata": {},
     "output_type": "execute_result"
    }
   ],
   "source": [
    "#checking if my carray has same lenght\n",
    "\"\"\"print(\"Length of manufacturers list:\", len(manufacturers))\n",
    "print(\"Length of years list:\", len(years))\n",
    "print(\"Length of models list:\", len(models))\n",
    "print(\"Length of miles_IRA list:\", len(miles_IRA))\"\"\"\n"
   ]
  },
  {
   "cell_type": "code",
   "execution_count": 9,
   "id": "8aafeddb-63cb-4ff8-86b7-50892c2ae3ee",
   "metadata": {},
   "outputs": [],
   "source": [
    "# checking for types in my df df_mateo.dtypes"
   ]
  },
  {
   "cell_type": "code",
   "execution_count": 10,
   "id": "8d1c5ec9-0853-44ab-9f6f-e610a488f698",
   "metadata": {},
   "outputs": [],
   "source": [
    "# changing types from obj to int to be able to perform numr \n",
    "df_mateo['Year'] = df_mateo['Year'].astype(int)\n",
    "df_mateo['Miles_IRA'] = df_mateo['Miles_IRA'].str.split().str[0].astype(int)"
   ]
  },
  {
   "cell_type": "code",
   "execution_count": 11,
   "id": "4b6e09b3-2e8a-4497-ab6d-67a876a5533c",
   "metadata": {},
   "outputs": [],
   "source": [
    "# Rename the 'Miles_IRA' column to 'Total_Range_in_MLS'\n",
    "df_mateo = df_mateo.rename(columns={'Miles_IRA': 'Total_Range_in_MLS'})\n",
    "\n",
    "# Convert column names to lower case and replace spaces with underscores\n",
    "df_mateo.columns = df_mateo.columns.str.lower().str.replace(' ', '_')\n"
   ]
  },
  {
   "cell_type": "code",
   "execution_count": 12,
   "id": "8df0b0ea-cba8-4ce9-88f3-e29c2a7b9c5a",
   "metadata": {},
   "outputs": [
    {
     "data": {
      "text/html": [
       "<div>\n",
       "<style scoped>\n",
       "    .dataframe tbody tr th:only-of-type {\n",
       "        vertical-align: middle;\n",
       "    }\n",
       "\n",
       "    .dataframe tbody tr th {\n",
       "        vertical-align: top;\n",
       "    }\n",
       "\n",
       "    .dataframe thead th {\n",
       "        text-align: right;\n",
       "    }\n",
       "</style>\n",
       "<table border=\"1\" class=\"dataframe\">\n",
       "  <thead>\n",
       "    <tr style=\"text-align: right;\">\n",
       "      <th></th>\n",
       "      <th>manufacturer</th>\n",
       "      <th>year</th>\n",
       "      <th>model</th>\n",
       "      <th>total_range_in_mls</th>\n",
       "    </tr>\n",
       "  </thead>\n",
       "  <tbody>\n",
       "    <tr>\n",
       "      <th>0</th>\n",
       "      <td>Chevrolet</td>\n",
       "      <td>2023</td>\n",
       "      <td>Bolt EV</td>\n",
       "      <td>259</td>\n",
       "    </tr>\n",
       "    <tr>\n",
       "      <th>1</th>\n",
       "      <td>Chevrolet</td>\n",
       "      <td>2022</td>\n",
       "      <td>Bolt EV</td>\n",
       "      <td>259</td>\n",
       "    </tr>\n",
       "    <tr>\n",
       "      <th>2</th>\n",
       "      <td>Chevrolet</td>\n",
       "      <td>2019</td>\n",
       "      <td>Bolt EV</td>\n",
       "      <td>238</td>\n",
       "    </tr>\n",
       "    <tr>\n",
       "      <th>3</th>\n",
       "      <td>Chevrolet</td>\n",
       "      <td>2021</td>\n",
       "      <td>Bolt EV</td>\n",
       "      <td>259</td>\n",
       "    </tr>\n",
       "    <tr>\n",
       "      <th>4</th>\n",
       "      <td>Chevrolet</td>\n",
       "      <td>2020</td>\n",
       "      <td>Bolt EV</td>\n",
       "      <td>259</td>\n",
       "    </tr>\n",
       "    <tr>\n",
       "      <th>...</th>\n",
       "      <td>...</td>\n",
       "      <td>...</td>\n",
       "      <td>...</td>\n",
       "      <td>...</td>\n",
       "    </tr>\n",
       "    <tr>\n",
       "      <th>1286</th>\n",
       "      <td>Nissan</td>\n",
       "      <td>2022</td>\n",
       "      <td>Armada 4WD</td>\n",
       "      <td>416</td>\n",
       "    </tr>\n",
       "    <tr>\n",
       "      <th>1287</th>\n",
       "      <td>Nissan</td>\n",
       "      <td>2021</td>\n",
       "      <td>Armada 4WD</td>\n",
       "      <td>416</td>\n",
       "    </tr>\n",
       "    <tr>\n",
       "      <th>1288</th>\n",
       "      <td>Nissan</td>\n",
       "      <td>2021</td>\n",
       "      <td>Armada 4WD</td>\n",
       "      <td>416</td>\n",
       "    </tr>\n",
       "    <tr>\n",
       "      <th>1289</th>\n",
       "      <td>Nissan</td>\n",
       "      <td>2020</td>\n",
       "      <td>Armada 4WD</td>\n",
       "      <td>390</td>\n",
       "    </tr>\n",
       "    <tr>\n",
       "      <th>1290</th>\n",
       "      <td>Nissan</td>\n",
       "      <td>2019</td>\n",
       "      <td>Armada 4WD</td>\n",
       "      <td>390</td>\n",
       "    </tr>\n",
       "  </tbody>\n",
       "</table>\n",
       "<p>1291 rows × 4 columns</p>\n",
       "</div>"
      ],
      "text/plain": [
       "     manufacturer  year       model  total_range_in_mls\n",
       "0       Chevrolet  2023     Bolt EV                 259\n",
       "1       Chevrolet  2022     Bolt EV                 259\n",
       "2       Chevrolet  2019     Bolt EV                 238\n",
       "3       Chevrolet  2021     Bolt EV                 259\n",
       "4       Chevrolet  2020     Bolt EV                 259\n",
       "...           ...   ...         ...                 ...\n",
       "1286       Nissan  2022  Armada 4WD                 416\n",
       "1287       Nissan  2021  Armada 4WD                 416\n",
       "1288       Nissan  2021  Armada 4WD                 416\n",
       "1289       Nissan  2020  Armada 4WD                 390\n",
       "1290       Nissan  2019  Armada 4WD                 390\n",
       "\n",
       "[1291 rows x 4 columns]"
      ]
     },
     "execution_count": 12,
     "metadata": {},
     "output_type": "execute_result"
    }
   ],
   "source": [
    "df_mateo"
   ]
  },
  {
   "cell_type": "code",
   "execution_count": null,
   "id": "9ee79d73-ceac-4776-8999-a1d465369b81",
   "metadata": {},
   "outputs": [],
   "source": []
  }
 ],
 "metadata": {
  "kernelspec": {
   "display_name": "Python 3 (ipykernel)",
   "language": "python",
   "name": "python3"
  },
  "language_info": {
   "codemirror_mode": {
    "name": "ipython",
    "version": 3
   },
   "file_extension": ".py",
   "mimetype": "text/x-python",
   "name": "python",
   "nbconvert_exporter": "python",
   "pygments_lexer": "ipython3",
   "version": "3.11.7"
  }
 },
 "nbformat": 4,
 "nbformat_minor": 5
}
