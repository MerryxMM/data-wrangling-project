{
 "cells": [
  {
   "cell_type": "code",
   "execution_count": null,
   "id": "b7a28e13-2753-4da9-92bf-b4b0f454351c",
   "metadata": {},
   "outputs": [],
   "source": [
    "import pandas as pd\n",
    "import requests as r\n",
    "from bs4 import BeautifulSoup as bs\n",
    "import numpy as np\n",
    "import os\n",
    "import matplotlib.pyplot as plt\n",
    "import seaborn as sns\n",
    "\n",
    "\n",
    "# Task: Columns -> Energy & Petrol Consumption, Storage"
   ]
  },
  {
   "cell_type": "code",
   "execution_count": 182,
   "id": "45a853e6-004b-4e8d-8bcc-ada7b4011ac7",
   "metadata": {},
   "outputs": [
    {
     "name": "stdout",
     "output_type": "stream",
     "text": [
      "Scraping page 1 of Chevrolet\n",
      "Scraping page 2 of Chevrolet\n",
      "Scraping page 3 of Chevrolet\n",
      "Scraping page 4 of Chevrolet\n",
      "Scraping page 5 of Chevrolet\n",
      "Scraping page 6 of Chevrolet\n",
      "Scraping page 7 of Chevrolet\n",
      "Scraping page 8 of Chevrolet\n",
      "Scraping page 9 of Chevrolet\n",
      "Scraping page 10 of Chevrolet\n",
      "Scraping page 11 of Chevrolet\n",
      "Scraping page 12 of Chevrolet\n",
      "Scraping page 1 of Ford\n",
      "Scraping page 2 of Ford\n",
      "Scraping page 3 of Ford\n",
      "Scraping page 4 of Ford\n",
      "Scraping page 5 of Ford\n",
      "Scraping page 6 of Ford\n",
      "Scraping page 7 of Ford\n",
      "Scraping page 8 of Ford\n",
      "Scraping page 9 of Ford\n",
      "Scraping page 10 of Ford\n",
      "Scraping page 11 of Ford\n",
      "Scraping page 12 of Ford\n",
      "Scraping page 1 of Nissan\n",
      "Scraping page 2 of Nissan\n",
      "Scraping page 3 of Nissan\n",
      "Scraping page 4 of Nissan\n",
      "Scraping page 5 of Nissan\n",
      "Scraping page 6 of Nissan\n",
      "Creating Dictionary.\n",
      "Returning Dataframe.\n",
      "Finished\n"
     ]
    }
   ],
   "source": [
    "base_url = \"https://www.fueleconomy.gov/feg/\"\n",
    "makers = [\"Chevrolet\", \"Ford\", \"Nissan\"]\n",
    "\n",
    "def get_data(base, maker):\n",
    "    mpge = []\n",
    "    mpg = []\n",
    "    battery = []\n",
    "    gas_tank = []\n",
    "    for m in maker:\n",
    "        page = 1\n",
    "        while True:\n",
    "            print(f\"Scraping page {page} of {m}\")\n",
    "            maker_url = f\"{base}PowerSearch.do?action=noform&path=4&year1=2019&year2=2024&make={m}&srchtyp=newMake&pageno={page}&rowLimit=50\"\n",
    "            response = r.get(maker_url)\n",
    "            soup = bs(response.content)\n",
    "                \n",
    "            link = [x.get(\"href\") for x in soup.select(\"a[href]\") if \"sbs&id\" in x.get(\"href\")]\n",
    "            if len(link) == 0:\n",
    "                break\n",
    "                \n",
    "            for l in link:\n",
    "                if l == \"#\":\n",
    "                    continue\n",
    "                response = r.get(base+l)\n",
    "                soup = bs(response.content)\n",
    "                try:\n",
    "                    type = soup.find(\"td\", class_=\"fuel nobottomborder padding\").getText(strip=True)\n",
    "                except:\n",
    "                    print(f\"No type: {l}\")\n",
    "                try:\n",
    "                    if type == \"Electricity\":\n",
    "                        battery.append(soup.find_all(\"td\", class_=\"even sbsCellData\")[2].getText().split(\" \")[0]) #hrs per 240v\n",
    "                        gas_tank.append(np.nan)\n",
    "                        mpge.append(soup.find(\"td\", class_=\"combinedMPG\").getText().split(\":\")[1])\n",
    "                        mpg.append(np.nan)\n",
    "                    elif type in [\"Regular Gasoline\", \"Diesel\", \"Premium Gasoline\"]:\n",
    "                        battery.append(np.nan)\n",
    "                        gas_tank.append(soup.find_all(\"td\", class_=\"sbsEconData\")[2].getText().split(\" \")[0]) #gallons\n",
    "                        mpge.append(np.nan)\n",
    "                        mpg.append(soup.find(\"td\", class_=\"combinedMPG\").getText().split(\":\")[1])\n",
    "                    else:\n",
    "                        battery.append(soup.find_all(\"td\", class_=\"even sbsCellData\")[2].getText().split(\" \")[0]) #hrs per 240v\n",
    "                        gas_tank.append(soup.find_all(\"td\", class_=\"sbsEconData\")[3].getText().split(\" \")[0]) #gallons\n",
    "                        mpge.append(soup.find(\"td\", class_=\"combinedMPG\").getText().split(\":\")[1])\n",
    "                        mpg.append(soup.find(\"td\", class_=\"combinedMPG\").getText().split(\":\")[1])\n",
    "                except:\n",
    "                    print(f\"Process stopped at {l}\")\n",
    "            page += 1\n",
    "\n",
    "    print(\"Creating Dictionary.\")\n",
    "    manufacturer_dict = {\"electric_consumption\":mpge, \"electric_storage\":battery,\n",
    "                        \"analogue_consumption\":mpg, \"analogue_storage\":gas_tank}\n",
    "    print(\"Returning Dataframe.\")\n",
    "    return pd.DataFrame(manufacturer_dict)\n",
    "\n",
    "manufacturer_df = get_data(base_url, makers)\n",
    "print(\"Finished\")"
   ]
  },
  {
   "cell_type": "code",
   "execution_count": null,
   "id": "3242c455-6908-4235-a98e-61420531416d",
   "metadata": {},
   "outputs": [],
   "source": [
    "manufacturer_df.describ"
   ]
  },
  {
   "cell_type": "markdown",
   "id": "cd3a27b5-d74a-4a52-99a6-b71696310f83",
   "metadata": {},
   "source": [
    "maker_url = f\"https://www.fueleconomy.gov/feg/PowerSearch.do?action=noform&path=4&year1=2023&year2=2025&make=Chevrolet&srchtyp=newMake&pageno=4&rowLimit=50&sortBy=Comb&tabView=0\"\n",
    "response = r.get(maker_url)\n",
    "soup = bs(response.content)\n",
    "                \n",
    "link = [x.get(\"href\") for x in soup.select(\"a[href]\") if \"sbs&id\" in x.get(\"href\")]\n",
    "print(link)"
   ]
  }
 ],
 "metadata": {
  "kernelspec": {
   "display_name": "Python 3 (ipykernel)",
   "language": "python",
   "name": "python3"
  },
  "language_info": {
   "codemirror_mode": {
    "name": "ipython",
    "version": 3
   },
   "file_extension": ".py",
   "mimetype": "text/x-python",
   "name": "python",
   "nbconvert_exporter": "python",
   "pygments_lexer": "ipython3",
   "version": "3.11.7"
  }
 },
 "nbformat": 4,
 "nbformat_minor": 5
}
