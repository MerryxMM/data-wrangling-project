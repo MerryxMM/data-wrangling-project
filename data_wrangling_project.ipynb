{
 "cells": [
  {
   "cell_type": "code",
   "execution_count": 66,
   "id": "b7a28e13-2753-4da9-92bf-b4b0f454351c",
   "metadata": {},
   "outputs": [],
   "source": [
    "import pandas as pd\n",
    "import requests as r\n",
    "from bs4 import BeautifulSoup as bs\n",
    "import numpy as np\n",
    "import os\n",
    "import matplotlib.pyplot as plt\n",
    "import seaborn as sns\n",
    "\n",
    "base_url = \"https://www.fueleconomy.gov/feg/\"\n",
    "makers = [\"Chevrolet\", \"Nissan\", \"Ford\"]\n",
    "# Task: Columns -> Energy & Petrol Consumption, Storage"
   ]
  },
  {
   "cell_type": "code",
   "execution_count": 65,
   "id": "45a853e6-004b-4e8d-8bcc-ada7b4011ac7",
   "metadata": {},
   "outputs": [
    {
     "name": "stdout",
     "output_type": "stream",
     "text": [
      "Electricity\n",
      "Electricity\n",
      "Electricity\n",
      "Electricity\n",
      "Electricity\n",
      "Electricity\n",
      "Electricity\n",
      "Electricity\n",
      "Electricity\n",
      "Electricity\n",
      "Electricity\n",
      "Regular Gasoline\n",
      "Regular Gasoline\n",
      "Regular Gasoline\n",
      "Regular Gasoline\n",
      "Regular Gasoline\n",
      "Regular Gasoline\n",
      "Regular Gasoline\n",
      "Regular Gasoline\n",
      "Regular Gasoline\n",
      "Regular Gasoline\n",
      "Regular Gasoline\n",
      "Regular Gasoline\n",
      "Regular Gasoline\n",
      "Regular Gasoline\n",
      "Regular Gasoline\n",
      "Regular Gasoline\n",
      "Regular Gasoline\n",
      "Regular Gasoline\n",
      "Regular Gasoline\n",
      "Regular Gasoline\n",
      "Regular Gasoline\n",
      "Regular Gasoline\n",
      "Regular Gasoline\n",
      "Regular Gasoline\n",
      "Regular Gasoline\n",
      "Regular Gasoline\n",
      "Regular Gasoline\n",
      "Regular Gasoline\n",
      "Regular Gasoline\n",
      "Regular Gasoline\n",
      "Premium Gasoline\n",
      "Regular Gasoline\n",
      "Regular Gasoline\n",
      "Regular Gasoline\n",
      "Regular Gasoline\n",
      "Regular Gasoline\n",
      "Regular Gasoline\n",
      "Regular Gasoline\n",
      "Regular Gasoline\n",
      "['111', '111', '109', '109', '103', '101', '98', '95', '92', '90', '87', '', '', '', '', '', '', '', '', '', '', '', '', '', '', '', '', '', '', '', '', '', '', '', '', '', '', '', '', '', '', '', '', '', '', '', '', '', '', ''] ['', '', '', '', '', '', '', '', '', '', '', '35', '35', '34', '33', '33', '33', '33', '33', '33', '33', '32', '32', '32', '32', '32', '32', '31', '31', '31', '31', '31', '31', '31', '31', '30', '30', '30', '30', '29', '29', '24', '23', '23', '23', '23', '23', '23', '23', '23']\n"
     ]
    }
   ],
   "source": [
    "def get_data(base, maker):\n",
    "    base_url = \"https://www.fueleconomy.gov/feg/\"\n",
    "    maker_url = f\"{base}PowerSearch.do?action=noform&path=4&year1=2019&year2=2024&make={maker}&srchtyp=newMake&pageno=1&rowLimit=50\"\n",
    "    response = r.get(maker_url)\n",
    "    soup = bs(response.content)\n",
    "    link = [x.get(\"href\") for x in soup.select(\"a[href]\")[154:210] if \"yourMpgVehicle\" not in x.get(\"href\")]\n",
    "    mpge = []\n",
    "    mpg = []\n",
    "    batter = []\n",
    "    gas_tank = []\n",
    "    for l in link:\n",
    "        response = r.get(base_url+l)\n",
    "        soup = bs(response.content)\n",
    "        type = soup.find(\"td\", class_=\"fuel nobottomborder padding\").getText(strip=True)\n",
    "        if type == \"Electricity\":\n",
    "            \n",
    "            mpge.append(soup.find(\"td\", class_=\"combinedMPG\").getText().split(\":\")[1])\n",
    "            mpg.append(\"\")\n",
    "        else:\n",
    "            gas_tank.append(soup.find(\"td\",class_=\"sbsEconData\")).getText().split(\" \")[0]\n",
    "            mpge.append(\"\")\n",
    "            mpg.append(soup.find(\"td\", class_=\"combinedMPG\").getText().split(\":\")[1])\n",
    "    print(mpge,mpg)\n",
    "\n",
    "get_data(base_url, \"Nissan\")"
   ]
  },
  {
   "cell_type": "code",
   "execution_count": null,
   "id": "fba3dc26-53a9-490e-a2d5-5dcb8645a6d7",
   "metadata": {},
   "outputs": [],
   "source": []
  }
 ],
 "metadata": {
  "kernelspec": {
   "display_name": "Python 3 (ipykernel)",
   "language": "python",
   "name": "python3"
  },
  "language_info": {
   "codemirror_mode": {
    "name": "ipython",
    "version": 3
   },
   "file_extension": ".py",
   "mimetype": "text/x-python",
   "name": "python",
   "nbconvert_exporter": "python",
   "pygments_lexer": "ipython3",
   "version": "3.11.7"
  }
 },
 "nbformat": 4,
 "nbformat_minor": 5
}
