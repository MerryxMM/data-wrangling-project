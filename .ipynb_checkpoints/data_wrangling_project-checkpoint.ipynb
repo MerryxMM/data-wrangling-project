{
 "cells": [
  {
   "cell_type": "code",
   "execution_count": 49,
   "id": "448ba33f-d12d-4493-a1e9-bddcd4132854",
   "metadata": {},
   "outputs": [],
   "source": [
    "import pandas as pd\n",
    "import requests as r\n",
    "from bs4 import BeautifulSoup as bs\n",
    "import numpy as np\n",
    "import os\n",
    "import matplotlib.pyplot as plt\n",
    "import seaborn as sns\n",
    "\n",
    "base_url = \"https://www.fueleconomy.gov/feg/\"\n",
    "makers = [\"Chevrolet\", \"Nissan\", \"Ford\"]\n"
   ]
  },
  {
   "cell_type": "code",
   "execution_count": 50,
   "id": "6882d21d-4708-4f80-b219-283c1196ff1f",
   "metadata": {},
   "outputs": [],
   "source": [
    "url = \"https://www.fueleconomy.gov/feg/PowerSearch.do?action=PowerSearch&year1=2019&year2=2024&cbmkFord=Ford&minmsrpsel=0&maxmsrpsel=0&city=0&highway=0&combined=0&YearSel=2019-2024&MakeSel=Ford&MarClassSel=&FuelTypeSel=&VehTypeSel=&TranySel=&DriveTypeSel=&CylindersSel=&MpgSel=000&sortBy=Comb&Units=&url=SearchServlet&opt=new&minmsrp=0&maxmsrp=0&minmpg=0&maxmpg=0&sCharge=&tCharge=&startstop=&cylDeact=&rowLimit=199\"\n",
    "page = r.get(url)\n",
    "soup = bs(page.content)"
   ]
  },
  {
   "cell_type": "code",
   "execution_count": 64,
   "id": "44091d5e-135d-4780-a163-359451eec3fb",
   "metadata": {},
   "outputs": [],
   "source": [
    "base_url = \"https://www.fueleconomy.gov/feg/\"\n",
    "makers = [\"Chevrolet\", \"Nissan\", \"Ford\"]\n",
    "\n",
    "manufacturers = []\n",
    "years = []\n",
    "models = []\n",
    "for maker in makers:\n",
    "    page_number = 0\n",
    "    while True:\n",
    "        url = f\"{base_url}PowerSearch.do?action=noform&path=4&year1=2019&year2=2024&make={maker}&srchtyp=newMake&pageno={page_number}&rowLimit=200&sortBy=Comb&tabView=0\"\n",
    "        page = r.get(url)\n",
    "        soup = bs(page.content, \"html.parser\")\n",
    "        rows = soup.find_all(\"tr\", class_=\"ymm-row\")\n",
    "        if not rows:  # Check if there are no more rows, indicating the end of data\n",
    "            break\n",
    "        for tr in rows:\n",
    "            a_tags = tr.find_all(\"a\")\n",
    "            for a in a_tags:\n",
    "                manufacturers.append(a.text.split()[1])\n",
    "                years.append(a.text.split()[0])\n",
    "                models.append(' '.join(a.text.split()[2:]))\n",
    "\n",
    "        page_number += 1"
   ]
  },
  {
   "cell_type": "code",
   "execution_count": 71,
   "id": "8aafeddb-63cb-4ff8-86b7-50892c2ae3ee",
   "metadata": {},
   "outputs": [
    {
     "data": {
      "text/plain": [
       "746"
      ]
     },
     "execution_count": 71,
     "metadata": {},
     "output_type": "execute_result"
    }
   ],
   "source": [
    "df = pd.DataFrame({\"Manufacturer\": manufacturers, \"Year\": years, \"Model\": models})\n",
    "#df[\"Manufacturer\"].\n",
    "ford_count = (df[\"Manufacturer\"] == \"Ford\").sum()\n",
    "ford_count"
   ]
  },
  {
   "cell_type": "code",
   "execution_count": null,
   "id": "ec01df4e-301d-4f4f-970a-656f2f99d52d",
   "metadata": {},
   "outputs": [],
   "source": [
    "models"
   ]
  },
  {
   "cell_type": "code",
   "execution_count": null,
   "id": "433f71ce-726f-4c90-a464-f52288d1ea98",
   "metadata": {},
   "outputs": [],
   "source": [
    "https://www.fueleconomy.gov/feg/\n",
    "PowerSearch.do?action=PowerSearch&year1=&year2=2024&minmsrpsel=0&maxmsrpsel=0&city=0&highway=0&combined=0&YearSel=2023-2024&MakeSel=&MarClassSel=&FuelTypeSel=&VehTypeSel=&TranySel=&DriveTypeSel=&CylindersSel=&MpgSel=000&sortBy=Comb&Units=&url=SearchServlet&opt=new&minmsrp=0&maxmsrp=0&minmpg=0&maxmpg=0&sCharge=&tCharge=&startstop=&cylDeact=&rowLimit=50\n",
    "PowerSearch.do?action=noform&path=4&year1=2019&year2=2024&make={maker}&srchtyp=newMake&pageno={page_number}&rowLimit=200&sortBy=Comb&tabView=0"
   ]
  },
  {
   "cell_type": "code",
   "execution_count": null,
   "id": "e7ac38a8-2f3b-48c8-89d1-f95b133d5ba0",
   "metadata": {},
   "outputs": [],
   "source": [
    "soup.find_all(\"tr\", class_=\"ymm-row\")"
   ]
  }
 ],
 "metadata": {
  "kernelspec": {
   "display_name": "Python 3 (ipykernel)",
   "language": "python",
   "name": "python3"
  },
  "language_info": {
   "codemirror_mode": {
    "name": "ipython",
    "version": 3
   },
   "file_extension": ".py",
   "mimetype": "text/x-python",
   "name": "python",
   "nbconvert_exporter": "python",
   "pygments_lexer": "ipython3",
   "version": "3.11.7"
  }
 },
 "nbformat": 4,
 "nbformat_minor": 5
}
